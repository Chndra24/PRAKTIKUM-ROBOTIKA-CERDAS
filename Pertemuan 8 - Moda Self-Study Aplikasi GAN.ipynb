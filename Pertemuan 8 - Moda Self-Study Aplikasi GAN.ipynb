{
  "nbformat": 4,
  "nbformat_minor": 0,
  "metadata": {
    "colab": {
      "provenance": []
    },
    "kernelspec": {
      "name": "python3",
      "display_name": "Python 3"
    },
    "language_info": {
      "name": "python"
    }
  },
  "cells": [
    {
      "cell_type": "markdown",
      "metadata": {
        "id": "vkQKlayTveEo"
      },
      "source": [
        "##**Importing Required Packages**\n"
      ]
    },
    {
      "cell_type": "code",
      "metadata": {
        "colab": {
          "base_uri": "https://localhost:8080/",
          "height": 0
        },
        "id": "GE0XhwgmvQ2C",
        "outputId": "0b60a138-2963-42b8-a4d1-7b826ef3d49e"
      },
      "source": [
        "!pip install mido"
      ],
      "execution_count": 1,
      "outputs": [
        {
          "output_type": "stream",
          "name": "stdout",
          "text": [
            "Collecting mido\n",
            "  Downloading mido-1.3.3-py3-none-any.whl.metadata (6.4 kB)\n",
            "Requirement already satisfied: packaging in /usr/local/lib/python3.10/dist-packages (from mido) (24.2)\n",
            "Downloading mido-1.3.3-py3-none-any.whl (54 kB)\n",
            "\u001b[?25l   \u001b[90m━━━━━━━━━━━━━━━━━━━━━━━━━━━━━━━━━━━━━━━━\u001b[0m \u001b[32m0.0/54.6 kB\u001b[0m \u001b[31m?\u001b[0m eta \u001b[36m-:--:--\u001b[0m\r\u001b[2K   \u001b[90m━━━━━━━━━━━━━━━━━━━━━━━━━━━━━━━━━━━━━━━━\u001b[0m \u001b[32m54.6/54.6 kB\u001b[0m \u001b[31m3.0 MB/s\u001b[0m eta \u001b[36m0:00:00\u001b[0m\n",
            "\u001b[?25hInstalling collected packages: mido\n",
            "Successfully installed mido-1.3.3\n"
          ]
        }
      ]
    },
    {
      "cell_type": "code",
      "metadata": {
        "id": "eVSJRfJ-vaXW"
      },
      "source": [
        "import mido\n",
        "from mido import MidiFile, MidiTrack, Message\n",
        "from keras.layers import LSTM, Dense, Activation, Dropout, Flatten\n",
        "from keras.preprocessing import sequence\n",
        "from keras.models import Sequential\n",
        "from tensorflow.keras.optimizers import Adam\n",
        "from sklearn.preprocessing import MinMaxScaler, StandardScaler\n",
        "import numpy as np"
      ],
      "execution_count": 2,
      "outputs": []
    },
    {
      "cell_type": "markdown",
      "metadata": {
        "id": "FKaFwLewvmCX"
      },
      "source": [
        "##**Load MID file/files**"
      ]
    },
    {
      "cell_type": "code",
      "metadata": {
        "id": "ak39F93pvky4",
        "colab": {
          "base_uri": "https://localhost:8080/",
          "height": 0
        },
        "outputId": "153847b3-1289-4022-8d37-c5c02725dac6"
      },
      "source": [
        "!unzip /content/chillhopdata.zip -d chillhop"
      ],
      "execution_count": 3,
      "outputs": [
        {
          "output_type": "stream",
          "name": "stdout",
          "text": [
            "Archive:  /content/chillhopdata.zip\n",
            "  inflating: chillhop/1.mid          \n",
            "  inflating: chillhop/10.mid         \n",
            "  inflating: chillhop/11.mid         \n",
            "  inflating: chillhop/12.mid         \n",
            "  inflating: chillhop/13.mid         \n",
            "  inflating: chillhop/14.mid         \n",
            "  inflating: chillhop/15.mid         \n",
            "  inflating: chillhop/16.mid         \n",
            "  inflating: chillhop/17.mid         \n",
            "  inflating: chillhop/18.mid         \n",
            "  inflating: chillhop/19.mid         \n",
            "  inflating: chillhop/2.mid          \n",
            "  inflating: chillhop/20.mid         \n",
            "  inflating: chillhop/3.mid          \n",
            "  inflating: chillhop/4.mid          \n",
            "  inflating: chillhop/5.mid          \n",
            "  inflating: chillhop/6.mid          \n",
            "  inflating: chillhop/7.mid          \n",
            "  inflating: chillhop/8.mid          \n",
            "  inflating: chillhop/9.mid          \n",
            "  inflating: chillhop/Cymatics - Eternity MIDI 1 - C Maj.mid  \n",
            "  inflating: chillhop/Cymatics - Eternity MIDI 10 - F Min.mid  \n",
            "  inflating: chillhop/Cymatics - Eternity MIDI 11 - A Maj.mid  \n",
            "  inflating: chillhop/Cymatics - Eternity MIDI 12 - A Min.mid  \n",
            "  inflating: chillhop/Cymatics - Eternity MIDI 13 - A Min.mid  \n",
            "  inflating: chillhop/Cymatics - Eternity MIDI 14 - A Min.mid  \n",
            "  inflating: chillhop/Cymatics - Eternity MIDI 15 - A Maj.mid  \n",
            "  inflating: chillhop/Cymatics - Eternity MIDI 16 - A Maj.mid  \n",
            "  inflating: chillhop/Cymatics - Eternity MIDI 17 - A Maj.mid  \n",
            "  inflating: chillhop/Cymatics - Eternity MIDI 18 - A Maj.mid  \n",
            "  inflating: chillhop/Cymatics - Eternity MIDI 19 - A Min.mid  \n",
            "  inflating: chillhop/Cymatics - Eternity MIDI 2 - C Min.mid  \n",
            "  inflating: chillhop/Cymatics - Eternity MIDI 20 - A Min.mid  \n",
            "  inflating: chillhop/Cymatics - Eternity MIDI 21 - A Min.mid  \n",
            "  inflating: chillhop/Cymatics - Eternity MIDI 22 - B Min.mid  \n",
            "  inflating: chillhop/Cymatics - Eternity MIDI 3 - D Maj.mid  \n",
            "  inflating: chillhop/Cymatics - Eternity MIDI 4 - D Maj.mid  \n",
            "  inflating: chillhop/Cymatics - Eternity MIDI 5 - D Min.mid  \n",
            "  inflating: chillhop/Cymatics - Eternity MIDI 6 - D Min.mid  \n",
            "  inflating: chillhop/Cymatics - Eternity MIDI 7 - E Min.mid  \n",
            "  inflating: chillhop/Cymatics - Eternity MIDI 8 - F Maj.mid  \n",
            "  inflating: chillhop/Cymatics - Eternity MIDI 9 - F Min.mid  \n",
            "  inflating: chillhop/Cymatics - Lofi MIDI 1 - C Maj.mid  \n",
            "  inflating: chillhop/Cymatics - Lofi MIDI 10 - D Maj.mid  \n",
            "  inflating: chillhop/Cymatics - Lofi MIDI 11 - E Maj.mid  \n",
            "  inflating: chillhop/Cymatics - Lofi MIDI 12 - E Min.mid  \n",
            "  inflating: chillhop/Cymatics - Lofi MIDI 13 - E Min.mid  \n",
            "  inflating: chillhop/Cymatics - Lofi MIDI 14 - F Min.mid  \n",
            "  inflating: chillhop/Cymatics - Lofi MIDI 15 - F Maj.mid  \n",
            "  inflating: chillhop/Cymatics - Lofi MIDI 16 - F Maj.mid  \n",
            "  inflating: chillhop/Cymatics - Lofi MIDI 17 - G Maj.mid  \n",
            "  inflating: chillhop/Cymatics - Lofi MIDI 18 - G Maj.mid  \n",
            "  inflating: chillhop/Cymatics - Lofi MIDI 19 - G Maj.mid  \n",
            "  inflating: chillhop/Cymatics - Lofi MIDI 2 - C Maj.mid  \n",
            "  inflating: chillhop/Cymatics - Lofi MIDI 20 - G Min.mid  \n",
            "  inflating: chillhop/Cymatics - Lofi MIDI 21 - A Min.mid  \n",
            "  inflating: chillhop/Cymatics - Lofi MIDI 22 - B Min.mid  \n",
            "  inflating: chillhop/Cymatics - Lofi MIDI 3 - C Min.mid  \n",
            "  inflating: chillhop/Cymatics - Lofi MIDI 4 - D Maj.mid  \n",
            "  inflating: chillhop/Cymatics - Lofi MIDI 5 - D Maj.mid  \n",
            "  inflating: chillhop/Cymatics - Lofi MIDI 6 - D Min.mid  \n",
            "  inflating: chillhop/Cymatics - Lofi MIDI 7 - D Maj.mid  \n",
            "  inflating: chillhop/Cymatics - Lofi MIDI 8 - D Maj.mid  \n",
            "  inflating: chillhop/Cymatics - Lofi MIDI 9 - D Maj.mid  \n",
            "  inflating: chillhop/E-Piano Chords MIDI.mid  \n",
            "  inflating: chillhop/E-Piano MIDI (2).mid  \n",
            "  inflating: chillhop/E-Piano MIDI.mid  \n",
            "  inflating: chillhop/Lofi Piano MIDI.mid  \n",
            "  inflating: chillhop/Piano 1 MIDI.mid  \n",
            "  inflating: chillhop/Piano 2 MIDI.mid  \n",
            "  inflating: chillhop/Piano Chords MIDI (2).mid  \n",
            "  inflating: chillhop/Piano Chords MIDI (3).mid  \n",
            "  inflating: chillhop/Piano Chords MIDI.mid  \n",
            "  inflating: chillhop/Piano MIDI (2).mid  \n",
            "  inflating: chillhop/Piano MIDI (3).mid  \n",
            "  inflating: chillhop/Piano MIDI (4).mid  \n",
            "  inflating: chillhop/Piano MIDI (5).mid  \n",
            "  inflating: chillhop/Piano MIDI (6).mid  \n",
            "  inflating: chillhop/Piano MIDI (7).mid  \n",
            "  inflating: chillhop/Piano MIDI (8).mid  \n",
            "  inflating: chillhop/Piano MIDI 1.mid  \n",
            "  inflating: chillhop/Piano MIDI 2.mid  \n",
            "  inflating: chillhop/Piano MIDI.mid  \n",
            "  inflating: chillhop/Rhodes MIDI (2).mid  \n",
            "  inflating: chillhop/Rhodes MIDI (3).mid  \n",
            "  inflating: chillhop/Rhodes MIDI (4).mid  \n",
            "  inflating: chillhop/Rhodes MIDI (5).mid  \n",
            "  inflating: chillhop/Rhodes MIDI (6).mid  \n",
            "  inflating: chillhop/Rhodes MIDI (7).mid  \n",
            "  inflating: chillhop/Rhodes MIDI (8).mid  \n",
            "  inflating: chillhop/Rhodes MIDI (9).mid  \n",
            "  inflating: chillhop/Rhodes MIDI.mid  \n",
            "  inflating: chillhop/merge_from_ofoct.mid  \n"
          ]
        }
      ]
    },
    {
      "cell_type": "markdown",
      "source": [
        "Kode ini membaca file MIDI dari direktori tertentu, mengekstrak pitch dari setiap notasi yang dimainkan pada saluran pertama dengan tipe pesan `note_on`, dan menyimpannya dalam daftar `notes`."
      ],
      "metadata": {
        "id": "soixOGiPv7SB"
      }
    },
    {
      "cell_type": "code",
      "metadata": {
        "id": "RJ4A-y7XDT1b"
      },
      "source": [
        "import os\n",
        "\n",
        "notes = []\n",
        "for song in os.listdir(\"/content/chillhop\"):\n",
        "  mid = MidiFile('/content/chillhop/' + song)\n",
        "  for msg in mid:\n",
        "    if not msg.is_meta and msg.channel == 0 and msg.type =='note_on':\n",
        "      data = msg.bytes()\n",
        "      notes.append(data[1])\n",
        ""
      ],
      "execution_count": 4,
      "outputs": []
    },
    {
      "cell_type": "markdown",
      "metadata": {
        "id": "b1QU2Ydwvsg9"
      },
      "source": [
        "##**Scale Data**\n",
        "\n",
        "Kode ini menggunakan `MinMaxScaler` dari pustaka `sklearn` untuk menormalkan nilai pitch dari daftar `notes` agar berada dalam rentang [0, 1], dengan terlebih dahulu mengubah daftar `notes` menjadi array NumPy dan mereshape-nya menjadi vektor kolom (-1, 1) sebelum proses transformasi."
      ]
    },
    {
      "cell_type": "code",
      "metadata": {
        "id": "tKdH3EATvv42"
      },
      "source": [
        "scaler = MinMaxScaler()\n",
        "notes = list(scaler.fit_transform(np.array(notes).reshape(-1, 1)))"
      ],
      "execution_count": 13,
      "outputs": []
    },
    {
      "cell_type": "markdown",
      "metadata": {
        "id": "JXK4vYTTvwJj"
      },
      "source": [
        "##**Create Train Data**\n",
        "\n",
        "kode ini membagi data notasi musik (notes) menjadi urutan input-output, di mana input terdiri dari 30 notasi sebelumnya untuk memprediksi notasi berikutnya, dan memisahkan sebagian data untuk digunakan sebagai data uji."
      ]
    },
    {
      "cell_type": "code",
      "metadata": {
        "id": "ZrM-0vwCv_jW"
      },
      "source": [
        "notes = [list(note) for note in notes]\n",
        "\n",
        "X = []\n",
        "y = []\n",
        "\n",
        "n_prev=30\n",
        "\n",
        "for i in range(len(notes) - n_prev):\n",
        "  X.append(notes[i:i+n_prev])\n",
        "  y.append(notes[i+n_prev])\n",
        "\n",
        "X_test = X[-300:]\n",
        "X = X[:-300]\n",
        "y = y[:-300]"
      ],
      "execution_count": 6,
      "outputs": []
    },
    {
      "cell_type": "markdown",
      "metadata": {
        "id": "vdwd6DoawElP"
      },
      "source": [
        "##**Build LSTM**\n",
        "\n",
        "model ini menggunakan tiga lapisan LSTM untuk memproses urutan notasi musik, dengan dropout di setiap lapisan untuk mencegah overfitting, dan menghasilkan prediksi nilai kontinu (pitch) menggunakan lapisan Dense dengan aktivasi linear."
      ]
    },
    {
      "cell_type": "code",
      "metadata": {
        "colab": {
          "base_uri": "https://localhost:8080/",
          "height": 457
        },
        "id": "WQ8I3hfiwHSc",
        "outputId": "9826962b-562d-4ed9-fa86-195774bab083"
      },
      "source": [
        "model = Sequential()\n",
        "model.add(LSTM(256, input_shape=(n_prev, 1), return_sequences=True))\n",
        "model.add(Dropout(0.6))\n",
        "model.add(LSTM(128, input_shape=(n_prev, 1), return_sequences=True))\n",
        "model.add(Dropout(0.6))\n",
        "model.add(LSTM(64, input_shape=(n_prev, 1), return_sequences=False))\n",
        "model.add(Dropout(0.6))\n",
        "model.add(Dense(1))\n",
        "model.add(Activation('linear'))\n",
        "model.summary()\n",
        "\n",
        "optimizer = Adam(learning_rate=0.001)\n",
        "model.compile(loss='mse', optimizer=optimizer)\n"
      ],
      "execution_count": 9,
      "outputs": [
        {
          "output_type": "stream",
          "name": "stderr",
          "text": [
            "/usr/local/lib/python3.10/dist-packages/keras/src/layers/rnn/rnn.py:204: UserWarning: Do not pass an `input_shape`/`input_dim` argument to a layer. When using Sequential models, prefer using an `Input(shape)` object as the first layer in the model instead.\n",
            "  super().__init__(**kwargs)\n"
          ]
        },
        {
          "output_type": "display_data",
          "data": {
            "text/plain": [
              "\u001b[1mModel: \"sequential_2\"\u001b[0m\n"
            ],
            "text/html": [
              "<pre style=\"white-space:pre;overflow-x:auto;line-height:normal;font-family:Menlo,'DejaVu Sans Mono',consolas,'Courier New',monospace\"><span style=\"font-weight: bold\">Model: \"sequential_2\"</span>\n",
              "</pre>\n"
            ]
          },
          "metadata": {}
        },
        {
          "output_type": "display_data",
          "data": {
            "text/plain": [
              "┏━━━━━━━━━━━━━━━━━━━━━━━━━━━━━━━━━━━━━━┳━━━━━━━━━━━━━━━━━━━━━━━━━━━━━┳━━━━━━━━━━━━━━━━━┓\n",
              "┃\u001b[1m \u001b[0m\u001b[1mLayer (type)                        \u001b[0m\u001b[1m \u001b[0m┃\u001b[1m \u001b[0m\u001b[1mOutput Shape               \u001b[0m\u001b[1m \u001b[0m┃\u001b[1m \u001b[0m\u001b[1m        Param #\u001b[0m\u001b[1m \u001b[0m┃\n",
              "┡━━━━━━━━━━━━━━━━━━━━━━━━━━━━━━━━━━━━━━╇━━━━━━━━━━━━━━━━━━━━━━━━━━━━━╇━━━━━━━━━━━━━━━━━┩\n",
              "│ lstm_6 (\u001b[38;5;33mLSTM\u001b[0m)                        │ (\u001b[38;5;45mNone\u001b[0m, \u001b[38;5;34m30\u001b[0m, \u001b[38;5;34m256\u001b[0m)             │         \u001b[38;5;34m264,192\u001b[0m │\n",
              "├──────────────────────────────────────┼─────────────────────────────┼─────────────────┤\n",
              "│ dropout_6 (\u001b[38;5;33mDropout\u001b[0m)                  │ (\u001b[38;5;45mNone\u001b[0m, \u001b[38;5;34m30\u001b[0m, \u001b[38;5;34m256\u001b[0m)             │               \u001b[38;5;34m0\u001b[0m │\n",
              "├──────────────────────────────────────┼─────────────────────────────┼─────────────────┤\n",
              "│ lstm_7 (\u001b[38;5;33mLSTM\u001b[0m)                        │ (\u001b[38;5;45mNone\u001b[0m, \u001b[38;5;34m30\u001b[0m, \u001b[38;5;34m128\u001b[0m)             │         \u001b[38;5;34m197,120\u001b[0m │\n",
              "├──────────────────────────────────────┼─────────────────────────────┼─────────────────┤\n",
              "│ dropout_7 (\u001b[38;5;33mDropout\u001b[0m)                  │ (\u001b[38;5;45mNone\u001b[0m, \u001b[38;5;34m30\u001b[0m, \u001b[38;5;34m128\u001b[0m)             │               \u001b[38;5;34m0\u001b[0m │\n",
              "├──────────────────────────────────────┼─────────────────────────────┼─────────────────┤\n",
              "│ lstm_8 (\u001b[38;5;33mLSTM\u001b[0m)                        │ (\u001b[38;5;45mNone\u001b[0m, \u001b[38;5;34m64\u001b[0m)                  │          \u001b[38;5;34m49,408\u001b[0m │\n",
              "├──────────────────────────────────────┼─────────────────────────────┼─────────────────┤\n",
              "│ dropout_8 (\u001b[38;5;33mDropout\u001b[0m)                  │ (\u001b[38;5;45mNone\u001b[0m, \u001b[38;5;34m64\u001b[0m)                  │               \u001b[38;5;34m0\u001b[0m │\n",
              "├──────────────────────────────────────┼─────────────────────────────┼─────────────────┤\n",
              "│ dense_2 (\u001b[38;5;33mDense\u001b[0m)                      │ (\u001b[38;5;45mNone\u001b[0m, \u001b[38;5;34m1\u001b[0m)                   │              \u001b[38;5;34m65\u001b[0m │\n",
              "├──────────────────────────────────────┼─────────────────────────────┼─────────────────┤\n",
              "│ activation_2 (\u001b[38;5;33mActivation\u001b[0m)            │ (\u001b[38;5;45mNone\u001b[0m, \u001b[38;5;34m1\u001b[0m)                   │               \u001b[38;5;34m0\u001b[0m │\n",
              "└──────────────────────────────────────┴─────────────────────────────┴─────────────────┘\n"
            ],
            "text/html": [
              "<pre style=\"white-space:pre;overflow-x:auto;line-height:normal;font-family:Menlo,'DejaVu Sans Mono',consolas,'Courier New',monospace\">┏━━━━━━━━━━━━━━━━━━━━━━━━━━━━━━━━━━━━━━┳━━━━━━━━━━━━━━━━━━━━━━━━━━━━━┳━━━━━━━━━━━━━━━━━┓\n",
              "┃<span style=\"font-weight: bold\"> Layer (type)                         </span>┃<span style=\"font-weight: bold\"> Output Shape                </span>┃<span style=\"font-weight: bold\">         Param # </span>┃\n",
              "┡━━━━━━━━━━━━━━━━━━━━━━━━━━━━━━━━━━━━━━╇━━━━━━━━━━━━━━━━━━━━━━━━━━━━━╇━━━━━━━━━━━━━━━━━┩\n",
              "│ lstm_6 (<span style=\"color: #0087ff; text-decoration-color: #0087ff\">LSTM</span>)                        │ (<span style=\"color: #00d7ff; text-decoration-color: #00d7ff\">None</span>, <span style=\"color: #00af00; text-decoration-color: #00af00\">30</span>, <span style=\"color: #00af00; text-decoration-color: #00af00\">256</span>)             │         <span style=\"color: #00af00; text-decoration-color: #00af00\">264,192</span> │\n",
              "├──────────────────────────────────────┼─────────────────────────────┼─────────────────┤\n",
              "│ dropout_6 (<span style=\"color: #0087ff; text-decoration-color: #0087ff\">Dropout</span>)                  │ (<span style=\"color: #00d7ff; text-decoration-color: #00d7ff\">None</span>, <span style=\"color: #00af00; text-decoration-color: #00af00\">30</span>, <span style=\"color: #00af00; text-decoration-color: #00af00\">256</span>)             │               <span style=\"color: #00af00; text-decoration-color: #00af00\">0</span> │\n",
              "├──────────────────────────────────────┼─────────────────────────────┼─────────────────┤\n",
              "│ lstm_7 (<span style=\"color: #0087ff; text-decoration-color: #0087ff\">LSTM</span>)                        │ (<span style=\"color: #00d7ff; text-decoration-color: #00d7ff\">None</span>, <span style=\"color: #00af00; text-decoration-color: #00af00\">30</span>, <span style=\"color: #00af00; text-decoration-color: #00af00\">128</span>)             │         <span style=\"color: #00af00; text-decoration-color: #00af00\">197,120</span> │\n",
              "├──────────────────────────────────────┼─────────────────────────────┼─────────────────┤\n",
              "│ dropout_7 (<span style=\"color: #0087ff; text-decoration-color: #0087ff\">Dropout</span>)                  │ (<span style=\"color: #00d7ff; text-decoration-color: #00d7ff\">None</span>, <span style=\"color: #00af00; text-decoration-color: #00af00\">30</span>, <span style=\"color: #00af00; text-decoration-color: #00af00\">128</span>)             │               <span style=\"color: #00af00; text-decoration-color: #00af00\">0</span> │\n",
              "├──────────────────────────────────────┼─────────────────────────────┼─────────────────┤\n",
              "│ lstm_8 (<span style=\"color: #0087ff; text-decoration-color: #0087ff\">LSTM</span>)                        │ (<span style=\"color: #00d7ff; text-decoration-color: #00d7ff\">None</span>, <span style=\"color: #00af00; text-decoration-color: #00af00\">64</span>)                  │          <span style=\"color: #00af00; text-decoration-color: #00af00\">49,408</span> │\n",
              "├──────────────────────────────────────┼─────────────────────────────┼─────────────────┤\n",
              "│ dropout_8 (<span style=\"color: #0087ff; text-decoration-color: #0087ff\">Dropout</span>)                  │ (<span style=\"color: #00d7ff; text-decoration-color: #00d7ff\">None</span>, <span style=\"color: #00af00; text-decoration-color: #00af00\">64</span>)                  │               <span style=\"color: #00af00; text-decoration-color: #00af00\">0</span> │\n",
              "├──────────────────────────────────────┼─────────────────────────────┼─────────────────┤\n",
              "│ dense_2 (<span style=\"color: #0087ff; text-decoration-color: #0087ff\">Dense</span>)                      │ (<span style=\"color: #00d7ff; text-decoration-color: #00d7ff\">None</span>, <span style=\"color: #00af00; text-decoration-color: #00af00\">1</span>)                   │              <span style=\"color: #00af00; text-decoration-color: #00af00\">65</span> │\n",
              "├──────────────────────────────────────┼─────────────────────────────┼─────────────────┤\n",
              "│ activation_2 (<span style=\"color: #0087ff; text-decoration-color: #0087ff\">Activation</span>)            │ (<span style=\"color: #00d7ff; text-decoration-color: #00d7ff\">None</span>, <span style=\"color: #00af00; text-decoration-color: #00af00\">1</span>)                   │               <span style=\"color: #00af00; text-decoration-color: #00af00\">0</span> │\n",
              "└──────────────────────────────────────┴─────────────────────────────┴─────────────────┘\n",
              "</pre>\n"
            ]
          },
          "metadata": {}
        },
        {
          "output_type": "display_data",
          "data": {
            "text/plain": [
              "\u001b[1m Total params: \u001b[0m\u001b[38;5;34m510,785\u001b[0m (1.95 MB)\n"
            ],
            "text/html": [
              "<pre style=\"white-space:pre;overflow-x:auto;line-height:normal;font-family:Menlo,'DejaVu Sans Mono',consolas,'Courier New',monospace\"><span style=\"font-weight: bold\"> Total params: </span><span style=\"color: #00af00; text-decoration-color: #00af00\">510,785</span> (1.95 MB)\n",
              "</pre>\n"
            ]
          },
          "metadata": {}
        },
        {
          "output_type": "display_data",
          "data": {
            "text/plain": [
              "\u001b[1m Trainable params: \u001b[0m\u001b[38;5;34m510,785\u001b[0m (1.95 MB)\n"
            ],
            "text/html": [
              "<pre style=\"white-space:pre;overflow-x:auto;line-height:normal;font-family:Menlo,'DejaVu Sans Mono',consolas,'Courier New',monospace\"><span style=\"font-weight: bold\"> Trainable params: </span><span style=\"color: #00af00; text-decoration-color: #00af00\">510,785</span> (1.95 MB)\n",
              "</pre>\n"
            ]
          },
          "metadata": {}
        },
        {
          "output_type": "display_data",
          "data": {
            "text/plain": [
              "\u001b[1m Non-trainable params: \u001b[0m\u001b[38;5;34m0\u001b[0m (0.00 B)\n"
            ],
            "text/html": [
              "<pre style=\"white-space:pre;overflow-x:auto;line-height:normal;font-family:Menlo,'DejaVu Sans Mono',consolas,'Courier New',monospace\"><span style=\"font-weight: bold\"> Non-trainable params: </span><span style=\"color: #00af00; text-decoration-color: #00af00\">0</span> (0.00 B)\n",
              "</pre>\n"
            ]
          },
          "metadata": {}
        }
      ]
    },
    {
      "cell_type": "markdown",
      "metadata": {
        "id": "SG9mJWyUwIUx"
      },
      "source": [
        "##**Training**\n",
        "\n",
        "Melatih model menggunakan data X dan y yang telah dipersiapkan, dengan ukuran batch 16 dan 10 epoch, serta menampilkan progres pelatihan selama proses berlangsung."
      ]
    },
    {
      "cell_type": "code",
      "metadata": {
        "colab": {
          "base_uri": "https://localhost:8080/",
          "height": 0
        },
        "id": "dBFvEFrIwJ-e",
        "outputId": "a335c0bf-7fec-4bd3-b34c-47b8a26ac01c"
      },
      "source": [
        "model.fit(np.array(X), np.array(y), batch_size=16, epochs=10, verbose=1)"
      ],
      "execution_count": 11,
      "outputs": [
        {
          "output_type": "stream",
          "name": "stdout",
          "text": [
            "Epoch 1/10\n",
            "\u001b[1m195/195\u001b[0m \u001b[32m━━━━━━━━━━━━━━━━━━━━\u001b[0m\u001b[37m\u001b[0m \u001b[1m26s\u001b[0m 135ms/step - loss: 0.0178\n",
            "Epoch 2/10\n",
            "\u001b[1m195/195\u001b[0m \u001b[32m━━━━━━━━━━━━━━━━━━━━\u001b[0m\u001b[37m\u001b[0m \u001b[1m41s\u001b[0m 135ms/step - loss: 0.0165\n",
            "Epoch 3/10\n",
            "\u001b[1m195/195\u001b[0m \u001b[32m━━━━━━━━━━━━━━━━━━━━\u001b[0m\u001b[37m\u001b[0m \u001b[1m41s\u001b[0m 137ms/step - loss: 0.0157\n",
            "Epoch 4/10\n",
            "\u001b[1m195/195\u001b[0m \u001b[32m━━━━━━━━━━━━━━━━━━━━\u001b[0m\u001b[37m\u001b[0m \u001b[1m41s\u001b[0m 136ms/step - loss: 0.0150\n",
            "Epoch 5/10\n",
            "\u001b[1m195/195\u001b[0m \u001b[32m━━━━━━━━━━━━━━━━━━━━\u001b[0m\u001b[37m\u001b[0m \u001b[1m41s\u001b[0m 136ms/step - loss: 0.0153\n",
            "Epoch 6/10\n",
            "\u001b[1m195/195\u001b[0m \u001b[32m━━━━━━━━━━━━━━━━━━━━\u001b[0m\u001b[37m\u001b[0m \u001b[1m27s\u001b[0m 137ms/step - loss: 0.0161\n",
            "Epoch 7/10\n",
            "\u001b[1m195/195\u001b[0m \u001b[32m━━━━━━━━━━━━━━━━━━━━\u001b[0m\u001b[37m\u001b[0m \u001b[1m43s\u001b[0m 145ms/step - loss: 0.0149\n",
            "Epoch 8/10\n",
            "\u001b[1m195/195\u001b[0m \u001b[32m━━━━━━━━━━━━━━━━━━━━\u001b[0m\u001b[37m\u001b[0m \u001b[1m39s\u001b[0m 136ms/step - loss: 0.0146\n",
            "Epoch 9/10\n",
            "\u001b[1m195/195\u001b[0m \u001b[32m━━━━━━━━━━━━━━━━━━━━\u001b[0m\u001b[37m\u001b[0m \u001b[1m27s\u001b[0m 136ms/step - loss: 0.0154\n",
            "Epoch 10/10\n",
            "\u001b[1m195/195\u001b[0m \u001b[32m━━━━━━━━━━━━━━━━━━━━\u001b[0m\u001b[37m\u001b[0m \u001b[1m40s\u001b[0m 133ms/step - loss: 0.0147\n"
          ]
        },
        {
          "output_type": "execute_result",
          "data": {
            "text/plain": [
              "<keras.src.callbacks.history.History at 0x7e617b9b4970>"
            ]
          },
          "metadata": {},
          "execution_count": 11
        }
      ]
    },
    {
      "cell_type": "markdown",
      "metadata": {
        "id": "Nq7SeQc4wKOQ"
      },
      "source": [
        "##**Generating & Saving LSTM Music**\n",
        "\n",
        "Kode ini mengubah hasil prediksi model menjadi notasi MIDI yang dapat dimainkan, dan menyimpannya dalam file LSTM_music.mid."
      ]
    },
    {
      "cell_type": "code",
      "metadata": {
        "id": "o_6WtTJlwi-a",
        "colab": {
          "base_uri": "https://localhost:8080/",
          "height": 0
        },
        "outputId": "db64c6cd-05a9-4fb7-9e4d-2060aa08361d"
      },
      "source": [
        "prediction = model.predict(np.array(X_test))\n",
        "prediction = np.squeeze(prediction)\n",
        "prediction = np.squeeze(scaler.inverse_transform(prediction.reshape(-1,1)))\n",
        "prediction = [int(i) for i in prediction]\n",
        "\n",
        "mid = MidiFile()\n",
        "track = MidiTrack()\n",
        "t = 0\n",
        "for note in prediction:\n",
        "    # 147 means note_on\n",
        "    # 67 is velosity\n",
        "    note = np.asarray([147, note, 67])\n",
        "    bytes = note.astype(int)\n",
        "    msg = Message.from_bytes(bytes[0:3])\n",
        "    t += 1\n",
        "    msg.time = t\n",
        "    track.append(msg)\n",
        "mid.tracks.append(track)\n",
        "mid.save('LSTM_music.mid')"
      ],
      "execution_count": 12,
      "outputs": [
        {
          "output_type": "stream",
          "name": "stdout",
          "text": [
            "\u001b[1m10/10\u001b[0m \u001b[32m━━━━━━━━━━━━━━━━━━━━\u001b[0m\u001b[37m\u001b[0m \u001b[1m1s\u001b[0m 95ms/step\n"
          ]
        }
      ]
    },
    {
      "cell_type": "code",
      "metadata": {
        "id": "7IoFQwKwLGMA"
      },
      "source": [],
      "execution_count": null,
      "outputs": []
    }
  ]
}